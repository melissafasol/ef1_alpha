{
 "cells": [
  {
   "cell_type": "markdown",
   "id": "4e11ce94",
   "metadata": {},
   "source": [
    "## Notebook to create brain state files from EF1_ALPHA excel sleep scoring spreadsheet"
   ]
  },
  {
   "cell_type": "code",
   "execution_count": 1,
   "id": "cbe0a575",
   "metadata": {},
   "outputs": [],
   "source": [
    "import os \n",
    "import numpy as np\n",
    "import pandas as pd"
   ]
  },
  {
   "cell_type": "code",
   "execution_count": 403,
   "id": "fe841820",
   "metadata": {},
   "outputs": [],
   "source": [
    "os.chdir('/home/melissa/PREPROCESSING/EF1_ALPHA')\n",
    "epoch_number = \"A, E, I, M, Q, U, Y, AC, AG, AK, AO, AS, BA, BE, BI, BM, BQ, BU, BY, CC, CG, CK, CO, CS, CW\"\n",
    "cols = \"B, F, J, N, R, V, Z, AD, AH, AL, AP, AT, BB, BF, BJ, BN, BR, BV, BZ,CD, CH, CL, CP, CT, CX\"\n",
    "cols_discard = \"C, G, K, O, S, W, AA, AE, AI, AM, AQ, AU, BC, BG, BK, BO, BS, BW, CA, CE, CI, CM, CQ, CU, CY\"\n",
    "skiprows = 5\n",
    "raw_excel = pd.read_excel('grant_EEG_classification.xlsx', usecols = cols, header= 1)"
   ]
  },
  {
   "cell_type": "code",
   "execution_count": 317,
   "id": "cf7a4bca",
   "metadata": {},
   "outputs": [],
   "source": [
    "#list of animal ids\n",
    "column_names = list(raw_excel)\n",
    "animal_ids = [anim_id[0:8] for anim_id in column_names]"
   ]
  },
  {
   "cell_type": "code",
   "execution_count": 319,
   "id": "76ec4f24",
   "metadata": {},
   "outputs": [
    {
     "data": {
      "text/plain": [
       "25"
      ]
     },
     "execution_count": 319,
     "metadata": {},
     "output_type": "execute_result"
    }
   ],
   "source": [
    "len(animal_ids)"
   ]
  },
  {
   "cell_type": "code",
   "execution_count": 404,
   "id": "016076e4",
   "metadata": {},
   "outputs": [],
   "source": [
    "raw_epochs = pd.read_excel('grant_EEG_classification.xlsx', usecols = epoch_number, header = 1, skiprows = 6)\n",
    "raw_epochs_letter = pd.read_excel('grant_EEG_classification.xlsx', usecols = cols, header = 1, skiprows = 6)\n",
    "raw_discard = pd.read_excel('grant_EEG_classification.xlsx', usecols = cols_discard, header = 1, skiprows = 6)"
   ]
  },
  {
   "cell_type": "code",
   "execution_count": 420,
   "id": "aae778d5",
   "metadata": {},
   "outputs": [],
   "source": [
    "two_files = []\n",
    "for epoch in raw_epochs:\n",
    "    start_epochs = raw_epochs[raw_epochs[epoch] == 0].index.tolist()\n",
    "    two_files.append(start_epochs)"
   ]
  },
  {
   "cell_type": "code",
   "execution_count": 438,
   "id": "9684a25f",
   "metadata": {},
   "outputs": [
    {
     "data": {
      "text/plain": [
       "[[0, 912],\n",
       " [0, 2391],\n",
       " [0, 2442],\n",
       " [0],\n",
       " [0, 1130],\n",
       " [0, 1476],\n",
       " [0, 2442],\n",
       " [0],\n",
       " [0, 2442],\n",
       " [0],\n",
       " [0],\n",
       " [0, 1521],\n",
       " [0],\n",
       " [0],\n",
       " [0],\n",
       " [0, 912],\n",
       " [0, 2391],\n",
       " [0],\n",
       " [0, 1521],\n",
       " [0],\n",
       " [0, 1521],\n",
       " [0],\n",
       " [0],\n",
       " [0, 2442],\n",
       " [0]]"
      ]
     },
     "execution_count": 438,
     "metadata": {},
     "output_type": "execute_result"
    }
   ],
   "source": [
    "two_files"
   ]
  },
  {
   "cell_type": "code",
   "execution_count": 475,
   "id": "4811b3c7",
   "metadata": {},
   "outputs": [],
   "source": [
    "for file, epoch, animal_id, epoch_letter_col, discard_col in zip(two_files, raw_epochs, animal_ids, raw_epochs_letter, raw_discard):\n",
    "    if len(file) == 2:\n",
    "        start_2 = file[1:2]\n",
    "        start_2 = start_2[0]\n",
    "        end_epoch = start_2 - 1\n",
    "        epochs_letter = raw_epochs_letter[epoch_letter_col]\n",
    "        drop_na = epochs_letter.dropna()\n",
    "        length_col = len(drop_na) \n",
    "        epoch_column_raw = raw_epochs[epoch]\n",
    "        part_1 = epoch_column[0: end_epoch]\n",
    "        part_2 = epoch_column[start_2: length_col]\n",
    "        epochs_letter_part_1 = epochs_letter[0:end_epoch]\n",
    "        epochs_letter_part_2 = epochs_letter[start_2: length_col]\n",
    "        discard_data = raw_discard[discard_col]\n",
    "        discard_part_1 = discard_data[0: end_epoch]\n",
    "        discard_part_2 = discard_data[start_2: length_col]\n",
    "        part_1_dict = {'epoch_numbers': part_1, 'brain_state': epochs_letter_part_1,\n",
    "                       'epoch_discard_numbers': discard_part_1}\n",
    "        part_2_dict = {'epoch_numbers': part_2, 'brain_state': epochs_letter_part_2,\n",
    "                      'epoch_discard_numbers': discard_part_2}\n",
    "        df_1 = pd.DataFrame(data = part_1_dict)\n",
    "        df_2 = pd.DataFrame(data = part_2_dict)\n",
    "        os.chdir('/home/melissa/PREPROCESSING/EF1_ALPHA/brain_state_folder')\n",
    "        df_1.to_csv(str(animal_id) +'_part_1.csv', index=True) \n",
    "        df_2.to_csv(str(animal_id) +'_part_2.csv', index=True)\n",
    "    else:\n",
    "        epochs_letter = raw_epochs_letter[epoch_letter_col]\n",
    "        drop_na = epochs_letter.dropna()\n",
    "        length_col = len(drop_na) \n",
    "        epoch_column_raw = raw_epochs[epoch]\n",
    "        all_epochs = epoch_column_raw[0:length_col]\n",
    "        all_epochs_letter = epochs_letter[0:length_col]\n",
    "        discard_data = raw_discard[discard_col]\n",
    "        all_discard_epochs = discard_data[0:length_col] \n",
    "        data_dict = {'epoch_numbers': all_epochs, 'brain_state': all_epochs_letter,\n",
    "                       'epoch_discard_numbers': all_discard_epochs}\n",
    "        os.chdir('/home/melissa/PREPROCESSING/EF1_ALPHA/brain_state_folder')\n",
    "        data_df = pd.DataFrame(data = data_dict)\n",
    "        data_df.to_csv(str(animal_id) +'.csv', index=True)"
   ]
  },
  {
   "cell_type": "code",
   "execution_count": 476,
   "id": "c23787f9",
   "metadata": {},
   "outputs": [
    {
     "data": {
      "text/html": [
       "<div>\n",
       "<style scoped>\n",
       "    .dataframe tbody tr th:only-of-type {\n",
       "        vertical-align: middle;\n",
       "    }\n",
       "\n",
       "    .dataframe tbody tr th {\n",
       "        vertical-align: top;\n",
       "    }\n",
       "\n",
       "    .dataframe thead th {\n",
       "        text-align: right;\n",
       "    }\n",
       "</style>\n",
       "<table border=\"1\" class=\"dataframe\">\n",
       "  <thead>\n",
       "    <tr style=\"text-align: right;\">\n",
       "      <th></th>\n",
       "      <th>Unnamed: 0</th>\n",
       "      <th>epoch_numbers</th>\n",
       "      <th>brain_state</th>\n",
       "      <th>epoch_discard_numbers</th>\n",
       "    </tr>\n",
       "  </thead>\n",
       "  <tbody>\n",
       "    <tr>\n",
       "      <th>0</th>\n",
       "      <td>0</td>\n",
       "      <td>0.0</td>\n",
       "      <td>W</td>\n",
       "      <td>NaN</td>\n",
       "    </tr>\n",
       "    <tr>\n",
       "      <th>1</th>\n",
       "      <td>1</td>\n",
       "      <td>1.0</td>\n",
       "      <td>W</td>\n",
       "      <td>NaN</td>\n",
       "    </tr>\n",
       "    <tr>\n",
       "      <th>2</th>\n",
       "      <td>2</td>\n",
       "      <td>2.0</td>\n",
       "      <td>W</td>\n",
       "      <td>NaN</td>\n",
       "    </tr>\n",
       "    <tr>\n",
       "      <th>3</th>\n",
       "      <td>3</td>\n",
       "      <td>3.0</td>\n",
       "      <td>W</td>\n",
       "      <td>NaN</td>\n",
       "    </tr>\n",
       "    <tr>\n",
       "      <th>4</th>\n",
       "      <td>4</td>\n",
       "      <td>4.0</td>\n",
       "      <td>W</td>\n",
       "      <td>NaN</td>\n",
       "    </tr>\n",
       "    <tr>\n",
       "      <th>...</th>\n",
       "      <td>...</td>\n",
       "      <td>...</td>\n",
       "      <td>...</td>\n",
       "      <td>...</td>\n",
       "    </tr>\n",
       "    <tr>\n",
       "      <th>2784</th>\n",
       "      <td>2784</td>\n",
       "      <td>2784.0</td>\n",
       "      <td>N</td>\n",
       "      <td>E</td>\n",
       "    </tr>\n",
       "    <tr>\n",
       "      <th>2785</th>\n",
       "      <td>2785</td>\n",
       "      <td>2785.0</td>\n",
       "      <td>N</td>\n",
       "      <td>E</td>\n",
       "    </tr>\n",
       "    <tr>\n",
       "      <th>2786</th>\n",
       "      <td>2786</td>\n",
       "      <td>2786.0</td>\n",
       "      <td>N</td>\n",
       "      <td>E</td>\n",
       "    </tr>\n",
       "    <tr>\n",
       "      <th>2787</th>\n",
       "      <td>2787</td>\n",
       "      <td>2787.0</td>\n",
       "      <td>N</td>\n",
       "      <td>E</td>\n",
       "    </tr>\n",
       "    <tr>\n",
       "      <th>2788</th>\n",
       "      <td>2788</td>\n",
       "      <td>2788.0</td>\n",
       "      <td>N</td>\n",
       "      <td>E</td>\n",
       "    </tr>\n",
       "  </tbody>\n",
       "</table>\n",
       "<p>2789 rows × 4 columns</p>\n",
       "</div>"
      ],
      "text/plain": [
       "      Unnamed: 0  epoch_numbers brain_state epoch_discard_numbers\n",
       "0              0            0.0           W                   NaN\n",
       "1              1            1.0           W                   NaN\n",
       "2              2            2.0           W                   NaN\n",
       "3              3            3.0           W                   NaN\n",
       "4              4            4.0           W                   NaN\n",
       "...          ...            ...         ...                   ...\n",
       "2784        2784         2784.0           N                     E\n",
       "2785        2785         2785.0           N                     E\n",
       "2786        2786         2786.0           N                     E\n",
       "2787        2787         2787.0           N                     E\n",
       "2788        2788         2788.0           N                     E\n",
       "\n",
       "[2789 rows x 4 columns]"
      ]
     },
     "execution_count": 476,
     "metadata": {},
     "output_type": "execute_result"
    }
   ],
   "source": [
    "os.chdir('/home/melissa/PREPROCESSING/EF1_ALPHA/brain_state_folder')\n",
    "test_check = pd.read_csv('191216_B.csv')\n",
    "test_check"
   ]
  },
  {
   "cell_type": "code",
   "execution_count": 466,
   "id": "db07b915",
   "metadata": {},
   "outputs": [],
   "source": [
    "wake_indices = test_check.loc[test_check['brain_state'] == 'W']\n",
    "discard_indices = test_check.loc[test_check['epoch_discard_numbers'] == 'E']"
   ]
  },
  {
   "cell_type": "code",
   "execution_count": 477,
   "id": "aaaddcf1",
   "metadata": {},
   "outputs": [],
   "source": [
    "wake_indices_list = wake_indices.index.tolist()\n",
    "discard_indices_list = discard_indices.index.tolist()"
   ]
  },
  {
   "cell_type": "code",
   "execution_count": 395,
   "id": "be239aed",
   "metadata": {},
   "outputs": [],
   "source": [
    "def non_match_elements(list_a, list_b):\n",
    "    non_match = []\n",
    "    for i in list_a:\n",
    "        if i not in list_b:\n",
    "            non_match.append(i)\n",
    "    return non_match"
   ]
  },
  {
   "cell_type": "code",
   "execution_count": 400,
   "id": "d3516c66",
   "metadata": {},
   "outputs": [],
   "source": [
    "def match_elements(list_a, list_b):\n",
    "    match = []\n",
    "    for i in list_a:\n",
    "        if i in list_b:\n",
    "            match.append(i)\n",
    "    return match"
   ]
  },
  {
   "cell_type": "code",
   "execution_count": 468,
   "id": "52c9fe29",
   "metadata": {},
   "outputs": [],
   "source": [
    "new_list = non_match_elements(wake_indices_list, discard_indices_list)"
   ]
  },
  {
   "cell_type": "code",
   "execution_count": 469,
   "id": "aca55b73",
   "metadata": {},
   "outputs": [
    {
     "data": {
      "text/plain": [
       "[]"
      ]
     },
     "execution_count": 469,
     "metadata": {},
     "output_type": "execute_result"
    }
   ],
   "source": [
    "check_list = match_elements(new_list, discard_indices_list)\n",
    "check_list"
   ]
  },
  {
   "cell_type": "code",
   "execution_count": 363,
   "id": "db918deb",
   "metadata": {},
   "outputs": [],
   "source": [
    "def load_brainstate_file(brainstate_file, brainstate_letter):\n",
    "        brainstate_indices = brainstate_file.loc[brainstate_file['brain_state'] == brainstate_letter]\n",
    "        discard_indices = brainstate_file.loc[brainstate_file['epoch_discard'] == 'E']\n",
    "        \n",
    "        all_indices = brainstate_indices.index\n",
    "        starting_index = all_indices[0]\n",
    "            \n",
    "        epoch_indices = []\n",
    "        \n",
    "        for epoch_index in range(len(all_indices)-1):\n",
    "            if all_indices[epoch_index] + 1 != all_indices[epoch_index + 1]:\n",
    "                epoch_indices.append([starting_index, all_indices[epoch_index]])\n",
    "                starting_index = all_indices[epoch_index + 1]\n",
    "\n",
    "        #append last value outside of the loop as the loop is for len -1\n",
    "        epoch_indices.append([starting_index, all_indices[-1]])\n",
    "\n",
    "        return epoch_indices\n"
   ]
  },
  {
   "cell_type": "code",
   "execution_count": null,
   "id": "ff93b9fe",
   "metadata": {},
   "outputs": [],
   "source": []
  }
 ],
 "metadata": {
  "kernelspec": {
   "display_name": "Python 3",
   "language": "python",
   "name": "python3"
  },
  "language_info": {
   "codemirror_mode": {
    "name": "ipython",
    "version": 3
   },
   "file_extension": ".py",
   "mimetype": "text/x-python",
   "name": "python",
   "nbconvert_exporter": "python",
   "pygments_lexer": "ipython3",
   "version": "3.8.5"
  }
 },
 "nbformat": 4,
 "nbformat_minor": 5
}
