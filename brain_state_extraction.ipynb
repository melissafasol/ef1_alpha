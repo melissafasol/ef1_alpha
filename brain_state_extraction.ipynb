{
 "cells": [
  {
   "cell_type": "markdown",
   "id": "4e11ce94",
   "metadata": {},
   "source": [
    "## Notebook to create brain state files from EF1_ALPHA excel sleep scoring spreadsheet"
   ]
  },
  {
   "cell_type": "code",
   "execution_count": 1,
   "id": "cbe0a575",
   "metadata": {},
   "outputs": [],
   "source": [
    "import os \n",
    "import numpy as np\n",
    "import pandas as pd"
   ]
  },
  {
   "cell_type": "code",
   "execution_count": 403,
   "id": "fe841820",
   "metadata": {},
   "outputs": [],
   "source": [
    "os.chdir('/home/melissa/PREPROCESSING/EF1_ALPHA')\n",
    "epoch_number = \"A, E, I, M, Q, U, Y, AC, AG, AK, AO, AS, BA, BE, BI, BM, BQ, BU, BY, CC, CG, CK, CO, CS, CW\"\n",
    "cols = \"B, F, J, N, R, V, Z, AD, AH, AL, AP, AT, BB, BF, BJ, BN, BR, BV, BZ,CD, CH, CL, CP, CT, CX\"\n",
    "cols_discard = \"C, G, K, O, S, W, AA, AE, AI, AM, AQ, AU, BC, BG, BK, BO, BS, BW, CA, CE, CI, CM, CQ, CU, CY\"\n",
    "skiprows = 5\n",
    "raw_excel = pd.read_excel('grant_EEG_classification.xlsx', usecols = cols, header= 1)"
   ]
  },
  {
   "cell_type": "code",
   "execution_count": 317,
   "id": "cf7a4bca",
   "metadata": {},
   "outputs": [],
   "source": [
    "#list of animal ids\n",
    "column_names = list(raw_excel)\n",
    "animal_ids = [anim_id[0:8] for anim_id in column_names]"
   ]
  },
  {
   "cell_type": "code",
   "execution_count": 319,
   "id": "76ec4f24",
   "metadata": {},
   "outputs": [
    {
     "data": {
      "text/plain": [
       "25"
      ]
     },
     "execution_count": 319,
     "metadata": {},
     "output_type": "execute_result"
    }
   ],
   "source": [
    "len(animal_ids)"
   ]
  },
  {
   "cell_type": "code",
   "execution_count": 404,
   "id": "016076e4",
   "metadata": {},
   "outputs": [],
   "source": [
    "raw_epochs = pd.read_excel('grant_EEG_classification.xlsx', usecols = epoch_number, header = 1, skiprows = 6)\n",
    "raw_epochs_letter = pd.read_excel('grant_EEG_classification.xlsx', usecols = cols, header = 1, skiprows = 6)\n",
    "raw_discard = pd.read_excel('grant_EEG_classification.xlsx', usecols = cols_discard, header = 1, skiprows = 6)"
   ]
  },
  {
   "cell_type": "code",
   "execution_count": 420,
   "id": "eef28d0e",
   "metadata": {},
   "outputs": [],
   "source": [
    "two_files = []\n",
    "for epoch in raw_epochs:\n",
    "    start_epochs = raw_epochs[raw_epochs[epoch] == 0].index.tolist()\n",
    "    two_files.append(start_epochs)"
   ]
  },
  {
   "cell_type": "code",
   "execution_count": 438,
   "id": "fd54aaaf",
   "metadata": {},
   "outputs": [
    {
     "data": {
      "text/plain": [
       "[[0, 912],\n",
       " [0, 2391],\n",
       " [0, 2442],\n",
       " [0],\n",
       " [0, 1130],\n",
       " [0, 1476],\n",
       " [0, 2442],\n",
       " [0],\n",
       " [0, 2442],\n",
       " [0],\n",
       " [0],\n",
       " [0, 1521],\n",
       " [0],\n",
       " [0],\n",
       " [0],\n",
       " [0, 912],\n",
       " [0, 2391],\n",
       " [0],\n",
       " [0, 1521],\n",
       " [0],\n",
       " [0, 1521],\n",
       " [0],\n",
       " [0],\n",
       " [0, 2442],\n",
       " [0]]"
      ]
     },
     "execution_count": 438,
     "metadata": {},
     "output_type": "execute_result"
    }
   ],
   "source": [
    "two_files"
   ]
  },
  {
   "cell_type": "code",
   "execution_count": 482,
   "id": "909f2635",
   "metadata": {},
   "outputs": [],
   "source": [
    "for file, epoch, animal_id, epoch_letter_col, discard_col in zip(two_files, raw_epochs, animal_ids, raw_epochs_letter, raw_discard):\n",
    "    if len(file) == 2:\n",
    "        start_2 = file[1:2]\n",
    "        start_2 = start_2[0]\n",
    "        end_epoch = start_2 - 1\n",
    "        epochs_letter = raw_epochs_letter[epoch_letter_col]\n",
    "        drop_na = epochs_letter.dropna()\n",
    "        length_col = len(drop_na) \n",
    "        epoch_column_raw = raw_epochs[epoch]\n",
    "        part_1 = epoch_column_raw[0: end_epoch].astype(int)\n",
    "        part_2 = epoch_column_raw[start_2: length_col].astype(int)\n",
    "        epochs_letter_part_1 = epochs_letter[0:end_epoch]\n",
    "        epochs_letter_part_2 = epochs_letter[start_2: length_col]\n",
    "        discard_data = raw_discard[discard_col]\n",
    "        discard_part_1 = discard_data[0: end_epoch]\n",
    "        discard_part_2 = discard_data[start_2: length_col]\n",
    "        part_1_dict = {'epoch_numbers': part_1, 'brain_state': epochs_letter_part_1,\n",
    "                       'epoch_discard_numbers': discard_part_1}\n",
    "        part_2_dict = {'epoch_numbers': part_2, 'brain_state': epochs_letter_part_2,\n",
    "                      'epoch_discard_numbers': discard_part_2}\n",
    "        df_1 = pd.DataFrame(data = part_1_dict)\n",
    "        df_2 = pd.DataFrame(data = part_2_dict)\n",
    "        os.chdir('/home/melissa/PREPROCESSING/EF1_ALPHA/brain_state_folder')\n",
    "        df_1.to_csv(str(animal_id) +'_part_1.csv', index=True) \n",
    "        df_2.to_csv(str(animal_id) +'_part_2.csv', index=True)\n",
    "    else:\n",
    "        epochs_letter = raw_epochs_letter[epoch_letter_col]\n",
    "        drop_na = epochs_letter.dropna()\n",
    "        length_col = len(drop_na) \n",
    "        epoch_column_raw = raw_epochs[epoch]\n",
    "        all_epochs = epoch_column_raw[0:length_col].astype(int)\n",
    "        all_epochs_letter = epochs_letter[0:length_col]\n",
    "        discard_data = raw_discard[discard_col]\n",
    "        all_discard_epochs = discard_data[0:length_col] \n",
    "        data_dict = {'epoch_numbers': all_epochs, 'brain_state': all_epochs_letter,\n",
    "                       'epoch_discard_numbers': all_discard_epochs}\n",
    "        os.chdir('/home/melissa/PREPROCESSING/EF1_ALPHA/brain_state_folder')\n",
    "        data_df = pd.DataFrame(data = data_dict)\n",
    "        data_df.to_csv(str(animal_id) +'.csv', index=True)"
   ]
  },
  {
   "cell_type": "code",
   "execution_count": 484,
   "id": "c23787f9",
   "metadata": {},
   "outputs": [
    {
     "data": {
      "text/html": [
       "<div>\n",
       "<style scoped>\n",
       "    .dataframe tbody tr th:only-of-type {\n",
       "        vertical-align: middle;\n",
       "    }\n",
       "\n",
       "    .dataframe tbody tr th {\n",
       "        vertical-align: top;\n",
       "    }\n",
       "\n",
       "    .dataframe thead th {\n",
       "        text-align: right;\n",
       "    }\n",
       "</style>\n",
       "<table border=\"1\" class=\"dataframe\">\n",
       "  <thead>\n",
       "    <tr style=\"text-align: right;\">\n",
       "      <th></th>\n",
       "      <th>Unnamed: 0</th>\n",
       "      <th>epoch_numbers</th>\n",
       "      <th>brain_state</th>\n",
       "      <th>epoch_discard_numbers</th>\n",
       "    </tr>\n",
       "  </thead>\n",
       "  <tbody>\n",
       "    <tr>\n",
       "      <th>0</th>\n",
       "      <td>1130</td>\n",
       "      <td>0</td>\n",
       "      <td>W</td>\n",
       "      <td>NaN</td>\n",
       "    </tr>\n",
       "    <tr>\n",
       "      <th>1</th>\n",
       "      <td>1131</td>\n",
       "      <td>1</td>\n",
       "      <td>W</td>\n",
       "      <td>NaN</td>\n",
       "    </tr>\n",
       "    <tr>\n",
       "      <th>2</th>\n",
       "      <td>1132</td>\n",
       "      <td>2</td>\n",
       "      <td>W</td>\n",
       "      <td>NaN</td>\n",
       "    </tr>\n",
       "    <tr>\n",
       "      <th>3</th>\n",
       "      <td>1133</td>\n",
       "      <td>3</td>\n",
       "      <td>W</td>\n",
       "      <td>NaN</td>\n",
       "    </tr>\n",
       "    <tr>\n",
       "      <th>4</th>\n",
       "      <td>1134</td>\n",
       "      <td>4</td>\n",
       "      <td>W</td>\n",
       "      <td>NaN</td>\n",
       "    </tr>\n",
       "    <tr>\n",
       "      <th>...</th>\n",
       "      <td>...</td>\n",
       "      <td>...</td>\n",
       "      <td>...</td>\n",
       "      <td>...</td>\n",
       "    </tr>\n",
       "    <tr>\n",
       "      <th>2163</th>\n",
       "      <td>3293</td>\n",
       "      <td>2163</td>\n",
       "      <td>W</td>\n",
       "      <td>NaN</td>\n",
       "    </tr>\n",
       "    <tr>\n",
       "      <th>2164</th>\n",
       "      <td>3294</td>\n",
       "      <td>2164</td>\n",
       "      <td>W</td>\n",
       "      <td>NaN</td>\n",
       "    </tr>\n",
       "    <tr>\n",
       "      <th>2165</th>\n",
       "      <td>3295</td>\n",
       "      <td>2165</td>\n",
       "      <td>W</td>\n",
       "      <td>NaN</td>\n",
       "    </tr>\n",
       "    <tr>\n",
       "      <th>2166</th>\n",
       "      <td>3296</td>\n",
       "      <td>2166</td>\n",
       "      <td>W</td>\n",
       "      <td>NaN</td>\n",
       "    </tr>\n",
       "    <tr>\n",
       "      <th>2167</th>\n",
       "      <td>3297</td>\n",
       "      <td>2167</td>\n",
       "      <td>W</td>\n",
       "      <td>NaN</td>\n",
       "    </tr>\n",
       "  </tbody>\n",
       "</table>\n",
       "<p>2168 rows × 4 columns</p>\n",
       "</div>"
      ],
      "text/plain": [
       "      Unnamed: 0  epoch_numbers brain_state epoch_discard_numbers\n",
       "0           1130              0           W                   NaN\n",
       "1           1131              1           W                   NaN\n",
       "2           1132              2           W                   NaN\n",
       "3           1133              3           W                   NaN\n",
       "4           1134              4           W                   NaN\n",
       "...          ...            ...         ...                   ...\n",
       "2163        3293           2163           W                   NaN\n",
       "2164        3294           2164           W                   NaN\n",
       "2165        3295           2165           W                   NaN\n",
       "2166        3296           2166           W                   NaN\n",
       "2167        3297           2167           W                   NaN\n",
       "\n",
       "[2168 rows x 4 columns]"
      ]
     },
     "execution_count": 484,
     "metadata": {},
     "output_type": "execute_result"
    }
   ],
   "source": [
    "os.chdir('/home/melissa/PREPROCESSING/EF1_ALPHA/brain_state_folder')\n",
    "test_check = pd.read_csv('191125_A_part_2.csv')\n",
    "test_check"
   ]
  },
  {
   "cell_type": "code",
   "execution_count": null,
   "id": "f00f2ddc",
   "metadata": {},
   "outputs": [],
   "source": []
  },
  {
   "cell_type": "code",
   "execution_count": 496,
   "id": "db07b915",
   "metadata": {},
   "outputs": [],
   "source": [
    "wake_indices = test_check.loc[test_check['brain_state'] == 'W'].index.tolist()\n",
    "rem_indices = test_check.loc[test_check['brain_state'] == 'R']\n",
    "nonrem_indices = test_check.loc[test_check['brain_state'] == 'N']\n",
    "discard_indices = test_check.loc[test_check['epoch_discard_numbers'] == 'E']"
   ]
  },
  {
   "cell_type": "code",
   "execution_count": 490,
   "id": "aaaddcf1",
   "metadata": {},
   "outputs": [],
   "source": [
    "wake_indices_list = wake_indices.index.tolist()\n",
    "rem_indices_list = rem_indices.index.tolist()\n",
    "nonrem_indices_list = nonrem_indices.index.tolist()\n",
    "discard_indices_list = discard_indices.index.tolist()"
   ]
  },
  {
   "cell_type": "code",
   "execution_count": 573,
   "id": "6940fb06",
   "metadata": {},
   "outputs": [],
   "source": [
    "def non_match_elements(list_a, list_b):\n",
    "    non_match = []\n",
    "    for i in list_a:\n",
    "        if i not in list_b:\n",
    "            non_match.append(i)\n",
    "    return non_match\n",
    "\n",
    "new_list = non_match_elements(wake_indices_list, discard_indices_list)"
   ]
  },
  {
   "cell_type": "markdown",
   "id": "0aaf6243",
   "metadata": {},
   "source": [
    "## check that code works on individual animals"
   ]
  },
  {
   "cell_type": "code",
   "execution_count": 642,
   "id": "ff93b9fe",
   "metadata": {},
   "outputs": [],
   "source": [
    "os.chdir('/home/melissa/PROJECT_DIRECTORIES/ef1_alpha_analysis')\n",
    "%run preprocess.py"
   ]
  },
  {
   "cell_type": "code",
   "execution_count": 643,
   "id": "7c3e3508",
   "metadata": {},
   "outputs": [],
   "source": [
    "#paths \n",
    "recording_path = '/home/melissa/PREPROCESSING/EF1_ALPHA'\n",
    "brain_state_path = '/home/melissa/PREPROCESSING/EF1_ALPHA/brain_state_folder'"
   ]
  },
  {
   "cell_type": "code",
   "execution_count": 644,
   "id": "e03e67b0",
   "metadata": {},
   "outputs": [
    {
     "data": {
      "text/html": [
       "<div>\n",
       "<style scoped>\n",
       "    .dataframe tbody tr th:only-of-type {\n",
       "        vertical-align: middle;\n",
       "    }\n",
       "\n",
       "    .dataframe tbody tr th {\n",
       "        vertical-align: top;\n",
       "    }\n",
       "\n",
       "    .dataframe thead th {\n",
       "        text-align: right;\n",
       "    }\n",
       "</style>\n",
       "<table border=\"1\" class=\"dataframe\">\n",
       "  <thead>\n",
       "    <tr style=\"text-align: right;\">\n",
       "      <th></th>\n",
       "      <th>Unnamed: 0</th>\n",
       "      <th>epoch_numbers</th>\n",
       "      <th>brain_state</th>\n",
       "      <th>epoch_discard_numbers</th>\n",
       "    </tr>\n",
       "  </thead>\n",
       "  <tbody>\n",
       "    <tr>\n",
       "      <th>0</th>\n",
       "      <td>0</td>\n",
       "      <td>0</td>\n",
       "      <td>W</td>\n",
       "      <td>spyder semgent 1 0-5000</td>\n",
       "    </tr>\n",
       "    <tr>\n",
       "      <th>1</th>\n",
       "      <td>1</td>\n",
       "      <td>1</td>\n",
       "      <td>W</td>\n",
       "      <td>NaN</td>\n",
       "    </tr>\n",
       "    <tr>\n",
       "      <th>2</th>\n",
       "      <td>2</td>\n",
       "      <td>2</td>\n",
       "      <td>W</td>\n",
       "      <td>NaN</td>\n",
       "    </tr>\n",
       "    <tr>\n",
       "      <th>3</th>\n",
       "      <td>3</td>\n",
       "      <td>3</td>\n",
       "      <td>W</td>\n",
       "      <td>NaN</td>\n",
       "    </tr>\n",
       "    <tr>\n",
       "      <th>4</th>\n",
       "      <td>4</td>\n",
       "      <td>4</td>\n",
       "      <td>W</td>\n",
       "      <td>NaN</td>\n",
       "    </tr>\n",
       "    <tr>\n",
       "      <th>...</th>\n",
       "      <td>...</td>\n",
       "      <td>...</td>\n",
       "      <td>...</td>\n",
       "      <td>...</td>\n",
       "    </tr>\n",
       "    <tr>\n",
       "      <th>2452</th>\n",
       "      <td>2452</td>\n",
       "      <td>2452</td>\n",
       "      <td>W</td>\n",
       "      <td>NaN</td>\n",
       "    </tr>\n",
       "    <tr>\n",
       "      <th>2453</th>\n",
       "      <td>2453</td>\n",
       "      <td>2453</td>\n",
       "      <td>W</td>\n",
       "      <td>NaN</td>\n",
       "    </tr>\n",
       "    <tr>\n",
       "      <th>2454</th>\n",
       "      <td>2454</td>\n",
       "      <td>2454</td>\n",
       "      <td>W</td>\n",
       "      <td>NaN</td>\n",
       "    </tr>\n",
       "    <tr>\n",
       "      <th>2455</th>\n",
       "      <td>2455</td>\n",
       "      <td>2455</td>\n",
       "      <td>W</td>\n",
       "      <td>NaN</td>\n",
       "    </tr>\n",
       "    <tr>\n",
       "      <th>2456</th>\n",
       "      <td>2456</td>\n",
       "      <td>2456</td>\n",
       "      <td>W</td>\n",
       "      <td>NaN</td>\n",
       "    </tr>\n",
       "  </tbody>\n",
       "</table>\n",
       "<p>2457 rows × 4 columns</p>\n",
       "</div>"
      ],
      "text/plain": [
       "      Unnamed: 0  epoch_numbers brain_state    epoch_discard_numbers\n",
       "0              0              0           W  spyder semgent 1 0-5000\n",
       "1              1              1           W                      NaN\n",
       "2              2              2           W                      NaN\n",
       "3              3              3           W                      NaN\n",
       "4              4              4           W                      NaN\n",
       "...          ...            ...         ...                      ...\n",
       "2452        2452           2452           W                      NaN\n",
       "2453        2453           2453           W                      NaN\n",
       "2454        2454           2454           W                      NaN\n",
       "2455        2455           2455           W                      NaN\n",
       "2456        2456           2456           W                      NaN\n",
       "\n",
       "[2457 rows x 4 columns]"
      ]
     },
     "execution_count": 644,
     "metadata": {},
     "output_type": "execute_result"
    }
   ],
   "source": [
    "testing_br_state"
   ]
  },
  {
   "cell_type": "code",
   "execution_count": 649,
   "id": "9d65e38b",
   "metadata": {},
   "outputs": [],
   "source": [
    "testing_npy = load_npy_recordings(animal_id = '191104', folder_path = recording_path, letter = 'B', recording_number = 1)\n",
    "testing_br_state = load_brain_state_file(animal_id = '191104', folder_path = brain_state_path, letter = 'B', recording_number = 1)\n",
    "indices_br_state = remove_E_epochs(testing_br_state, brain_state_letter = 'W')\n",
    "epoch_indices = get_epoch_indices(indices_br_state)\n",
    "timevalues_array = create_epoch_bins(testing_br_state, epoch_indices)"
   ]
  },
  {
   "cell_type": "code",
   "execution_count": 653,
   "id": "cd816fa9",
   "metadata": {},
   "outputs": [],
   "source": [
    "os.chdir('/home/melissa/PROJECT_DIRECTORIES/taini_main/scripts')\n",
    "%run preproc3_filter.py"
   ]
  },
  {
   "cell_type": "code",
   "execution_count": 658,
   "id": "7914bf2e",
   "metadata": {},
   "outputs": [],
   "source": [
    "for column in testing_npy.T:\n",
    "    filter_test = Filter(column, timevalues_array)\n",
    "    print_filter = filter_test.butter_bandpass()"
   ]
  },
  {
   "cell_type": "code",
   "execution_count": 661,
   "id": "34682fa5",
   "metadata": {},
   "outputs": [
    {
     "data": {
      "text/plain": [
       "(1252,)"
      ]
     },
     "execution_count": 661,
     "metadata": {},
     "output_type": "execute_result"
    }
   ],
   "source": [
    "print_filter[0].shape"
   ]
  },
  {
   "cell_type": "code",
   "execution_count": 632,
   "id": "69ea9c8d",
   "metadata": {},
   "outputs": [
    {
     "data": {
      "text/plain": [
       "(12329984, 4)"
      ]
     },
     "execution_count": 632,
     "metadata": {},
     "output_type": "execute_result"
    }
   ],
   "source": [
    "testing_npy.shape"
   ]
  },
  {
   "cell_type": "code",
   "execution_count": 588,
   "id": "21bfb531",
   "metadata": {},
   "outputs": [
    {
     "name": "stdout",
     "output_type": "stream",
     "text": [
      "[[0, 56], [58, 767], [769, 1152], [1155, 1168], [1170, 1295], [1297, 1371], [1381, 1385], [1389, 1436], [1441, 1443], [1453, 1455], [1461, 1468], [1471, 1478], [1480, 1497], [1499, 1515], [1527, 1528], [1600, 1606], [1716, 1716], [1929, 1931], [1934, 1934], [1938, 1938], [1942, 1974], [1983, 1989], [1992, 1993], [1996, 2005], [2007, 2039], [2042, 2050], [2053, 2054], [2058, 2061], [2065, 2090], [2096, 2097], [2102, 2115], [2118, 2167]]\n"
     ]
    }
   ],
   "source": [
    "epoch_indices = get_epoch_indices(new_list)\n",
    "print(epoch_indices)"
   ]
  },
  {
   "cell_type": "code",
   "execution_count": 594,
   "id": "ac8737b8",
   "metadata": {},
   "outputs": [],
   "source": [
    "timevalues_array = create_epoch_bins(test_check, epoch_indices)"
   ]
  }
 ],
 "metadata": {
  "kernelspec": {
   "display_name": "Python 3",
   "language": "python",
   "name": "python3"
  },
  "language_info": {
   "codemirror_mode": {
    "name": "ipython",
    "version": 3
   },
   "file_extension": ".py",
   "mimetype": "text/x-python",
   "name": "python",
   "nbconvert_exporter": "python",
   "pygments_lexer": "ipython3",
   "version": "3.8.5"
  }
 },
 "nbformat": 4,
 "nbformat_minor": 5
}
