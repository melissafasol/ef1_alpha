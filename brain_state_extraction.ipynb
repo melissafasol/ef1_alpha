{
 "cells": [
  {
   "cell_type": "markdown",
   "id": "4e11ce94",
   "metadata": {},
   "source": [
    "## Notebook to create brain state files from EF1_ALPHA excel sleep scoring spreadsheet"
   ]
  },
  {
   "cell_type": "code",
   "execution_count": 166,
   "id": "cbe0a575",
   "metadata": {},
   "outputs": [],
   "source": [
    "import os \n",
    "import numpy as np\n",
    "import pandas as pd"
   ]
  },
  {
   "cell_type": "code",
   "execution_count": 167,
   "id": "fe841820",
   "metadata": {},
   "outputs": [],
   "source": [
    "os.chdir('/home/melissa/PREPROCESSING/EF1_ALPHA')\n",
    "epoch_number = \"A, E, I, M, Q, U, Y, AC, AG, AK, AO, AS, BA, BE, BI, BM, BQ, BU, BY, CC, CG, CK, CO, CS, CW\"\n",
    "cols = \"B, F, J, N, R, V, Z, AD, AH, AL, AP, AT, BB, BF, BJ, BN, BR, BV, BZ,CD, CH, CL, CP, CT, CX\"\n",
    "cols_discard = \"C, G, K, O, S, W, AA, AE, AI, AM, AQ, AU, BC, BG, BK, BO, BS, BW, CA, CE, CI, CM, CQ, CU, CY\"\n",
    "skiprows = 5\n",
    "raw_excel = pd.read_excel('grant_EEG_classification.xlsx', usecols = cols, header= 1)"
   ]
  },
  {
   "cell_type": "code",
   "execution_count": 168,
   "id": "cf7a4bca",
   "metadata": {},
   "outputs": [],
   "source": [
    "#list of animal ids\n",
    "column_names = list(raw_excel)\n",
    "animal_ids = [anim_id[0:10] for anim_id in column_names]"
   ]
  },
  {
   "cell_type": "code",
   "execution_count": 169,
   "id": "76ec4f24",
   "metadata": {},
   "outputs": [
    {
     "name": "stdout",
     "output_type": "stream",
     "text": [
      "['210422_D', '210423_D', '210705_C', '210706_C', '191125_A', '191126_A', '210705_B', '210706_B', '210705_A', '210706_A', '191216_A_1', '191217_A_1', '191104_B', '191107_A', '191108_A', '210422_B_1', '210423_B_1', '191216_C', '191217_C', '191216_B', '191217_B', '210429_C', '210430_C', '210705_D', '210706_D']\n"
     ]
    }
   ],
   "source": [
    "#strip whitespace\n",
    "animal_ids = [id.replace(\" \", \"\") for id in animal_ids]\n",
    "print(animal_ids)"
   ]
  },
  {
   "cell_type": "code",
   "execution_count": 67,
   "id": "016076e4",
   "metadata": {},
   "outputs": [],
   "source": [
    "raw_epochs = pd.read_excel('grant_EEG_classification.xlsx', usecols = epoch_number, header = 1, skiprows = 6)\n",
    "raw_epochs_letter = pd.read_excel('grant_EEG_classification.xlsx', usecols = cols, header = 1, skiprows = 6)\n",
    "raw_discard = pd.read_excel('grant_EEG_classification.xlsx', usecols = cols_discard, header = 1, skiprows = 6)"
   ]
  },
  {
   "cell_type": "code",
   "execution_count": 68,
   "id": "9b8b4dde",
   "metadata": {},
   "outputs": [],
   "source": [
    "two_files = []\n",
    "for epoch in raw_epochs:\n",
    "    start_epochs = raw_epochs[raw_epochs[epoch] == 0].index.tolist()\n",
    "    two_files.append(start_epochs)"
   ]
  },
  {
   "cell_type": "code",
   "execution_count": 141,
   "id": "f79b9aab",
   "metadata": {},
   "outputs": [],
   "source": [
    "for file, epoch, animal_id, epoch_letter_col, discard_col in zip(two_files, raw_epochs, animal_ids, raw_epochs_letter, raw_discard):\n",
    "    #print(animal_id)\n",
    "    if len(file) == 2:\n",
    "        start_2 = file[1:2]\n",
    "        start_2 = start_2[0]\n",
    "        end_epoch = start_2 - 1\n",
    "        epochs_letter = raw_epochs_letter[epoch_letter_col]\n",
    "        drop_na = epochs_letter.dropna()\n",
    "        length_col = len(drop_na) \n",
    "        epoch_column_raw = raw_epochs[epoch]\n",
    "        part_1 = epoch_column_raw[0: end_epoch].astype(int)\n",
    "        part_2 = epoch_column_raw[start_2: length_col].astype(int)\n",
    "        epochs_letter_part_1 = epochs_letter[0:end_epoch]\n",
    "        epochs_letter_part_2 = epochs_letter[start_2: length_col]\n",
    "        discard_data = raw_discard[discard_col]\n",
    "        discard_part_1 = discard_data[0: end_epoch]\n",
    "        discard_part_2 = discard_data[start_2: length_col]\n",
    "        part_1_dict = {'epoch_numbers': part_1, 'brain_state': epochs_letter_part_1,\n",
    "                       'epoch_discard_numbers': discard_part_1}\n",
    "        part_2_dict = {'epoch_numbers': part_2, 'brain_state': epochs_letter_part_2,\n",
    "                      'epoch_discard_numbers': discard_part_2}\n",
    "        df_1 = pd.DataFrame(data = part_1_dict)\n",
    "        df_2 = pd.DataFrame(data = part_2_dict)\n",
    "        os.chdir('/home/melissa/PREPROCESSING/EF1_ALPHA/brain_state_folder')\n",
    "        #df_1.to_csv(str(animal_id) +'_part_1.csv', index=True) \n",
    "        #df_2.to_csv(str(animal_id) +'_part_2.csv', index=True)\n",
    "    else:\n",
    "        epochs_letter = raw_epochs_letter[epoch_letter_col]\n",
    "        drop_na = epochs_letter.dropna()\n",
    "        length_col = len(drop_na) \n",
    "        epoch_column_raw = raw_epochs[epoch]\n",
    "        all_epochs = epoch_column_raw[0:length_col].astype(int)\n",
    "        all_epochs_letter = epochs_letter[0:length_col]\n",
    "        discard_data = raw_discard[discard_col]\n",
    "        all_discard_epochs = discard_data[0:length_col] \n",
    "        data_dict = {'epoch_numbers': all_epochs, 'brain_state': all_epochs_letter,\n",
    "                       'epoch_discard_numbers': all_discard_epochs}\n",
    "        os.chdir('/home/melissa/PREPROCESSING/EF1_ALPHA/brain_state_folder')\n",
    "        data_df = pd.DataFrame(data = data_dict)\n",
    "        #data_df.to_csv(str(animal_id) +'.csv', index=True)"
   ]
  },
  {
   "cell_type": "code",
   "execution_count": null,
   "id": "c23787f9",
   "metadata": {},
   "outputs": [],
   "source": [
    "os.chdir('/home/melissa/PREPROCESSING/EF1_ALPHA/brain_state_folder')\n",
    "test_check = pd.read_csv('191125_A_part_2.csv')"
   ]
  },
  {
   "cell_type": "code",
   "execution_count": null,
   "id": "db07b915",
   "metadata": {},
   "outputs": [],
   "source": [
    "wake_indices = test_check.loc[test_check['brain_state'] == 'W'].index.tolist()\n",
    "rem_indices = test_check.loc[test_check['brain_state'] == 'R']\n",
    "nonrem_indices = test_check.loc[test_check['brain_state'] == 'N']\n",
    "discard_indices = test_check.loc[test_check['epoch_discard_numbers'] == 'E']"
   ]
  },
  {
   "cell_type": "code",
   "execution_count": null,
   "id": "aaaddcf1",
   "metadata": {},
   "outputs": [],
   "source": [
    "wake_indices_list = wake_indices.index.tolist()\n",
    "rem_indices_list = rem_indices.index.tolist()\n",
    "nonrem_indices_list = nonrem_indices.index.tolist()\n",
    "discard_indices_list = discard_indices.index.tolist()"
   ]
  },
  {
   "cell_type": "code",
   "execution_count": null,
   "id": "7d200ad5",
   "metadata": {},
   "outputs": [],
   "source": [
    "def non_match_elements(list_a, list_b):\n",
    "    non_match = []\n",
    "    for i in list_a:\n",
    "        if i not in list_b:\n",
    "            non_match.append(i)\n",
    "    return non_match\n",
    "\n",
    "new_list = non_match_elements(wake_indices_list, discard_indices_list)"
   ]
  },
  {
   "cell_type": "markdown",
   "id": "f3847cdd",
   "metadata": {},
   "source": [
    "## check that code works on individual animals"
   ]
  },
  {
   "cell_type": "code",
   "execution_count": 12,
   "id": "ff93b9fe",
   "metadata": {},
   "outputs": [],
   "source": [
    "import os\n",
    "os.chdir('/home/melissa/PROJECT_DIRECTORIES/ef1_alpha_analysis')\n",
    "%run preprocess.py\n",
    "%run ef1_alpha_properties.py\n",
    "%run filter.py\n",
    "%run power.py"
   ]
  },
  {
   "cell_type": "code",
   "execution_count": 7,
   "id": "eb21502b",
   "metadata": {},
   "outputs": [],
   "source": [
    "#paths \n",
    "recording_path = '/home/melissa/PREPROCESSING/EF1_ALPHA'\n",
    "brain_state_path = '/home/melissa/PREPROCESSING/EF1_ALPHA/brain_state_folder'\n",
    "\n",
    "#paths to folder 1 and 2 \n",
    "os.chdir('/home/melissa/PREPROCESSING/EF1_ALPHA/two_recording/Part_1')\n",
    "test1 = np.load('210705_part1_B.npy')\n",
    "os.chdir('/home/melissa/PREPROCESSING/EF1_ALPHA/two_recording/Part_2')\n",
    "test2 = np.load('210705_part2_B.npy')"
   ]
  },
  {
   "cell_type": "code",
   "execution_count": 4,
   "id": "7cb2384d",
   "metadata": {},
   "outputs": [],
   "source": [
    "#2 lists of letters - 1 for one recording and 1 for two recording\n",
    "recordings_letters_1 = ['A', 'A_1', 'B', 'C', 'D']\n",
    "recording_letters_2 = ['A', 'A_1', 'B', 'B_1', 'C', 'D']"
   ]
  },
  {
   "cell_type": "code",
   "execution_count": 5,
   "id": "dc8bf120",
   "metadata": {},
   "outputs": [],
   "source": [
    "brainstates = ['R']\n",
    "animal_id_not_running = {'A': ['191125']}\n",
    "hdstage_not_running = ['A']"
   ]
  },
  {
   "cell_type": "code",
   "execution_count": 23,
   "id": "2e4d750e",
   "metadata": {},
   "outputs": [],
   "source": [
    "def get_seizure_epochs(brain_state_file):\n",
    "\n",
    "    seizure_indices = brain_state_file.loc[brain_state_file['epoch_discard_numbers'] == 'E'].index.tolist()\n",
    "        \n",
    "    return seizure_indices"
   ]
  },
  {
   "cell_type": "code",
   "execution_count": 1,
   "id": "5484d281",
   "metadata": {},
   "outputs": [],
   "source": [
    "#get_seizure_epochs(brain_state_file = br_file_1)"
   ]
  },
  {
   "cell_type": "code",
   "execution_count": null,
   "id": "46896e12",
   "metadata": {},
   "outputs": [],
   "source": []
  }
 ],
 "metadata": {
  "kernelspec": {
   "display_name": "Python 3",
   "language": "python",
   "name": "python3"
  },
  "language_info": {
   "codemirror_mode": {
    "name": "ipython",
    "version": 3
   },
   "file_extension": ".py",
   "mimetype": "text/x-python",
   "name": "python",
   "nbconvert_exporter": "python",
   "pygments_lexer": "ipython3",
   "version": "3.8.5"
  },
  "vscode": {
   "interpreter": {
    "hash": "f41a1448023d8366d46bdc1967babc49ad1fb1468381993cc01a260a0f4f6641"
   }
  }
 },
 "nbformat": 4,
 "nbformat_minor": 5
}
