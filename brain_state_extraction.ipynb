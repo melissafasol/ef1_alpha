{
 "cells": [
  {
   "cell_type": "markdown",
   "id": "4e11ce94",
   "metadata": {},
   "source": [
    "## Notebook to create brain state files from EF1_ALPHA excel sleep scoring spreadsheet"
   ]
  },
  {
   "cell_type": "code",
   "execution_count": 166,
   "id": "cbe0a575",
   "metadata": {},
   "outputs": [],
   "source": [
    "import os \n",
    "import numpy as np\n",
    "import pandas as pd"
   ]
  },
  {
   "cell_type": "code",
   "execution_count": 167,
   "id": "fe841820",
   "metadata": {},
   "outputs": [],
   "source": [
    "os.chdir('/home/melissa/PREPROCESSING/EF1_ALPHA')\n",
    "epoch_number = \"A, E, I, M, Q, U, Y, AC, AG, AK, AO, AS, BA, BE, BI, BM, BQ, BU, BY, CC, CG, CK, CO, CS, CW\"\n",
    "cols = \"B, F, J, N, R, V, Z, AD, AH, AL, AP, AT, BB, BF, BJ, BN, BR, BV, BZ,CD, CH, CL, CP, CT, CX\"\n",
    "cols_discard = \"C, G, K, O, S, W, AA, AE, AI, AM, AQ, AU, BC, BG, BK, BO, BS, BW, CA, CE, CI, CM, CQ, CU, CY\"\n",
    "skiprows = 5\n",
    "raw_excel = pd.read_excel('grant_EEG_classification.xlsx', usecols = cols, header= 1)"
   ]
  },
  {
   "cell_type": "code",
   "execution_count": 168,
   "id": "cf7a4bca",
   "metadata": {},
   "outputs": [],
   "source": [
    "#list of animal ids\n",
    "column_names = list(raw_excel)\n",
    "animal_ids = [anim_id[0:10] for anim_id in column_names]"
   ]
  },
  {
   "cell_type": "code",
   "execution_count": 169,
   "id": "76ec4f24",
   "metadata": {},
   "outputs": [
    {
     "name": "stdout",
     "output_type": "stream",
     "text": [
      "['210422_D', '210423_D', '210705_C', '210706_C', '191125_A', '191126_A', '210705_B', '210706_B', '210705_A', '210706_A', '191216_A_1', '191217_A_1', '191104_B', '191107_A', '191108_A', '210422_B_1', '210423_B_1', '191216_C', '191217_C', '191216_B', '191217_B', '210429_C', '210430_C', '210705_D', '210706_D']\n"
     ]
    }
   ],
   "source": [
    "#strip whitespace\n",
    "animal_ids = [id.replace(\" \", \"\") for id in animal_ids]\n",
    "print(animal_ids)"
   ]
  },
  {
   "cell_type": "code",
   "execution_count": 67,
   "id": "016076e4",
   "metadata": {},
   "outputs": [],
   "source": [
    "raw_epochs = pd.read_excel('grant_EEG_classification.xlsx', usecols = epoch_number, header = 1, skiprows = 6)\n",
    "raw_epochs_letter = pd.read_excel('grant_EEG_classification.xlsx', usecols = cols, header = 1, skiprows = 6)\n",
    "raw_discard = pd.read_excel('grant_EEG_classification.xlsx', usecols = cols_discard, header = 1, skiprows = 6)"
   ]
  },
  {
   "cell_type": "code",
   "execution_count": 68,
   "id": "9b8b4dde",
   "metadata": {},
   "outputs": [],
   "source": [
    "two_files = []\n",
    "for epoch in raw_epochs:\n",
    "    start_epochs = raw_epochs[raw_epochs[epoch] == 0].index.tolist()\n",
    "    two_files.append(start_epochs)"
   ]
  },
  {
   "cell_type": "code",
   "execution_count": 141,
   "id": "f79b9aab",
   "metadata": {},
   "outputs": [],
   "source": [
    "for file, epoch, animal_id, epoch_letter_col, discard_col in zip(two_files, raw_epochs, animal_ids, raw_epochs_letter, raw_discard):\n",
    "    #print(animal_id)\n",
    "    if len(file) == 2:\n",
    "        start_2 = file[1:2]\n",
    "        start_2 = start_2[0]\n",
    "        end_epoch = start_2 - 1\n",
    "        epochs_letter = raw_epochs_letter[epoch_letter_col]\n",
    "        drop_na = epochs_letter.dropna()\n",
    "        length_col = len(drop_na) \n",
    "        epoch_column_raw = raw_epochs[epoch]\n",
    "        part_1 = epoch_column_raw[0: end_epoch].astype(int)\n",
    "        part_2 = epoch_column_raw[start_2: length_col].astype(int)\n",
    "        epochs_letter_part_1 = epochs_letter[0:end_epoch]\n",
    "        epochs_letter_part_2 = epochs_letter[start_2: length_col]\n",
    "        discard_data = raw_discard[discard_col]\n",
    "        discard_part_1 = discard_data[0: end_epoch]\n",
    "        discard_part_2 = discard_data[start_2: length_col]\n",
    "        part_1_dict = {'epoch_numbers': part_1, 'brain_state': epochs_letter_part_1,\n",
    "                       'epoch_discard_numbers': discard_part_1}\n",
    "        part_2_dict = {'epoch_numbers': part_2, 'brain_state': epochs_letter_part_2,\n",
    "                      'epoch_discard_numbers': discard_part_2}\n",
    "        df_1 = pd.DataFrame(data = part_1_dict)\n",
    "        df_2 = pd.DataFrame(data = part_2_dict)\n",
    "        os.chdir('/home/melissa/PREPROCESSING/EF1_ALPHA/brain_state_folder')\n",
    "        #df_1.to_csv(str(animal_id) +'_part_1.csv', index=True) \n",
    "        #df_2.to_csv(str(animal_id) +'_part_2.csv', index=True)\n",
    "    else:\n",
    "        epochs_letter = raw_epochs_letter[epoch_letter_col]\n",
    "        drop_na = epochs_letter.dropna()\n",
    "        length_col = len(drop_na) \n",
    "        epoch_column_raw = raw_epochs[epoch]\n",
    "        all_epochs = epoch_column_raw[0:length_col].astype(int)\n",
    "        all_epochs_letter = epochs_letter[0:length_col]\n",
    "        discard_data = raw_discard[discard_col]\n",
    "        all_discard_epochs = discard_data[0:length_col] \n",
    "        data_dict = {'epoch_numbers': all_epochs, 'brain_state': all_epochs_letter,\n",
    "                       'epoch_discard_numbers': all_discard_epochs}\n",
    "        os.chdir('/home/melissa/PREPROCESSING/EF1_ALPHA/brain_state_folder')\n",
    "        data_df = pd.DataFrame(data = data_dict)\n",
    "        #data_df.to_csv(str(animal_id) +'.csv', index=True)"
   ]
  },
  {
   "cell_type": "code",
   "execution_count": null,
   "id": "c23787f9",
   "metadata": {},
   "outputs": [],
   "source": [
    "os.chdir('/home/melissa/PREPROCESSING/EF1_ALPHA/brain_state_folder')\n",
    "test_check = pd.read_csv('191125_A_part_2.csv')"
   ]
  },
  {
   "cell_type": "code",
   "execution_count": null,
   "id": "db07b915",
   "metadata": {},
   "outputs": [],
   "source": [
    "wake_indices = test_check.loc[test_check['brain_state'] == 'W'].index.tolist()\n",
    "rem_indices = test_check.loc[test_check['brain_state'] == 'R']\n",
    "nonrem_indices = test_check.loc[test_check['brain_state'] == 'N']\n",
    "discard_indices = test_check.loc[test_check['epoch_discard_numbers'] == 'E']"
   ]
  },
  {
   "cell_type": "code",
   "execution_count": null,
   "id": "aaaddcf1",
   "metadata": {},
   "outputs": [],
   "source": [
    "wake_indices_list = wake_indices.index.tolist()\n",
    "rem_indices_list = rem_indices.index.tolist()\n",
    "nonrem_indices_list = nonrem_indices.index.tolist()\n",
    "discard_indices_list = discard_indices.index.tolist()"
   ]
  },
  {
   "cell_type": "code",
   "execution_count": null,
   "id": "7d200ad5",
   "metadata": {},
   "outputs": [],
   "source": [
    "def non_match_elements(list_a, list_b):\n",
    "    non_match = []\n",
    "    for i in list_a:\n",
    "        if i not in list_b:\n",
    "            non_match.append(i)\n",
    "    return non_match\n",
    "\n",
    "new_list = non_match_elements(wake_indices_list, discard_indices_list)"
   ]
  },
  {
   "cell_type": "markdown",
   "id": "f3847cdd",
   "metadata": {},
   "source": [
    "## check that code works on individual animals"
   ]
  },
  {
   "cell_type": "code",
   "execution_count": 12,
   "id": "ff93b9fe",
   "metadata": {},
   "outputs": [],
   "source": [
    "import os\n",
    "os.chdir('/home/melissa/PROJECT_DIRECTORIES/ef1_alpha_analysis')\n",
    "%run preprocess.py\n",
    "%run ef1_alpha_properties.py\n",
    "%run filter.py\n",
    "%run power.py"
   ]
  },
  {
   "cell_type": "code",
   "execution_count": 7,
   "id": "eb21502b",
   "metadata": {},
   "outputs": [],
   "source": [
    "#paths \n",
    "recording_path = '/home/melissa/PREPROCESSING/EF1_ALPHA'\n",
    "brain_state_path = '/home/melissa/PREPROCESSING/EF1_ALPHA/brain_state_folder'\n",
    "\n",
    "#paths to folder 1 and 2 \n",
    "os.chdir('/home/melissa/PREPROCESSING/EF1_ALPHA/two_recording/Part_1')\n",
    "test1 = np.load('210705_part1_B.npy')\n",
    "os.chdir('/home/melissa/PREPROCESSING/EF1_ALPHA/two_recording/Part_2')\n",
    "test2 = np.load('210705_part2_B.npy')"
   ]
  },
  {
   "cell_type": "code",
   "execution_count": 4,
   "id": "7cb2384d",
   "metadata": {},
   "outputs": [],
   "source": [
    "#2 lists of letters - 1 for one recording and 1 for two recording\n",
    "recordings_letters_1 = ['A', 'A_1', 'B', 'C', 'D']\n",
    "recording_letters_2 = ['A', 'A_1', 'B', 'B_1', 'C', 'D']"
   ]
  },
  {
   "cell_type": "code",
   "execution_count": 5,
   "id": "dc8bf120",
   "metadata": {},
   "outputs": [],
   "source": [
    "brainstates = ['R']\n",
    "animal_id_not_running = {'A': ['191125']}\n",
    "hdstage_not_running = ['A']"
   ]
  },
  {
   "cell_type": "code",
   "execution_count": 9,
   "id": "340138ba",
   "metadata": {},
   "outputs": [],
   "source": [
    "def preprocessing_steps_1(brainstate_list, headstage_dict, animal_id_list,\n",
    "                        recording_path, brain_state_path, recording_number):\n",
    "    '''brainstate_list = ['W', 'N', 'R'],\n",
    "    headstage_dict = {'A': [2, 3, 7, 9]},\n",
    "    animal_id_list = {'A': ['191125']},\n",
    "    recording_path = path_to_npy_files\n",
    "    br_state_path = path_to_brainstate\n",
    "    recording_number = 1'''\n",
    "    \n",
    "    for brainstate in brainstate_list:\n",
    "        for headstage in headstage_dict:\n",
    "            for anim_id in animal_id_list[headstage]:\n",
    "                print('preprocessing' + str(anim_id))\n",
    "                preprocessing_steps = ExtractBrainStateEF1ALPHA(anim_id, recording_path, brain_state_path,\n",
    "                                                               headstage, recording_number = 1)\n",
    "                npy_recording = preprocessing_steps.load_npy_recordings()\n",
    "                br_state_file = preprocessing_steps.load_brain_state_file()\n",
    "                br_state_indices = preprocessing_steps.remove_E_epochs(br_state_file, brainstate)\n",
    "                epoch_indices = preprocessing_steps.get_epoch_indices(br_state_indices)\n",
    "                epoch_bins = preprocessing_steps.create_epoch_bins(br_state_file, epoch_indices)\n",
    "                print('preprocessing complete for animal id')\n",
    "                return epoch_bins"
   ]
  },
  {
   "cell_type": "code",
   "execution_count": 15,
   "id": "f7065017",
   "metadata": {},
   "outputs": [
    {
     "name": "stdout",
     "output_type": "stream",
     "text": [
      "preprocessing191107\n",
      "preprocessing complete for animal id\n"
     ]
    }
   ],
   "source": [
    "npy_1, br_file_1 = preprocessing_steps_1(brainstate_list = brainstates ,headstage_dict = recordings_letters_1,\n",
    "                                            animal_id_list = recordings_1_channel, recording_path = recording_path,\n",
    "                                            brain_state_path = brain_state_path, recording_number = 1)"
   ]
  },
  {
   "cell_type": "code",
   "execution_count": 23,
   "id": "2e4d750e",
   "metadata": {},
   "outputs": [],
   "source": [
    "def get_seizure_epochs(brain_state_file):\n",
    "\n",
    "    seizure_indices = brain_state_file.loc[brain_state_file['epoch_discard_numbers'] == 'E'].index.tolist()\n",
    "        \n",
    "    return seizure_indices"
   ]
  },
  {
   "cell_type": "code",
   "execution_count": 24,
   "id": "5484d281",
   "metadata": {},
   "outputs": [
    {
     "data": {
      "text/plain": [
       "[0,\n",
       " 1,\n",
       " 7,\n",
       " 11,\n",
       " 37,\n",
       " 49,\n",
       " 50,\n",
       " 51,\n",
       " 52,\n",
       " 55,\n",
       " 62,\n",
       " 63,\n",
       " 74,\n",
       " 89,\n",
       " 90,\n",
       " 91,\n",
       " 99,\n",
       " 114,\n",
       " 115,\n",
       " 116,\n",
       " 117,\n",
       " 132,\n",
       " 143,\n",
       " 144,\n",
       " 145,\n",
       " 148,\n",
       " 149,\n",
       " 150,\n",
       " 151,\n",
       " 152,\n",
       " 153,\n",
       " 154,\n",
       " 164,\n",
       " 171,\n",
       " 185,\n",
       " 194,\n",
       " 195,\n",
       " 210,\n",
       " 211,\n",
       " 225,\n",
       " 228,\n",
       " 229,\n",
       " 230,\n",
       " 241,\n",
       " 269,\n",
       " 270,\n",
       " 271,\n",
       " 272,\n",
       " 273,\n",
       " 281,\n",
       " 296,\n",
       " 297,\n",
       " 299,\n",
       " 310,\n",
       " 319,\n",
       " 332,\n",
       " 358,\n",
       " 365,\n",
       " 376,\n",
       " 387,\n",
       " 404,\n",
       " 415,\n",
       " 416,\n",
       " 417,\n",
       " 419,\n",
       " 431,\n",
       " 449,\n",
       " 450,\n",
       " 451,\n",
       " 467,\n",
       " 468,\n",
       " 480,\n",
       " 496,\n",
       " 497,\n",
       " 498,\n",
       " 499,\n",
       " 500,\n",
       " 501,\n",
       " 510,\n",
       " 693,\n",
       " 694,\n",
       " 717,\n",
       " 721,\n",
       " 731,\n",
       " 748,\n",
       " 761,\n",
       " 762,\n",
       " 763,\n",
       " 764,\n",
       " 802,\n",
       " 803,\n",
       " 818,\n",
       " 834,\n",
       " 835,\n",
       " 836,\n",
       " 837,\n",
       " 839,\n",
       " 847,\n",
       " 852,\n",
       " 853,\n",
       " 854,\n",
       " 878,\n",
       " 879,\n",
       " 913,\n",
       " 923,\n",
       " 935,\n",
       " 936,\n",
       " 937,\n",
       " 949,\n",
       " 950,\n",
       " 974,\n",
       " 975,\n",
       " 976,\n",
       " 987,\n",
       " 988,\n",
       " 1002,\n",
       " 1009,\n",
       " 1020,\n",
       " 1034,\n",
       " 1039,\n",
       " 1040,\n",
       " 1047,\n",
       " 1048,\n",
       " 1082,\n",
       " 1083,\n",
       " 1103,\n",
       " 1108,\n",
       " 1109,\n",
       " 1110,\n",
       " 1111,\n",
       " 1112,\n",
       " 1115,\n",
       " 1120,\n",
       " 1121,\n",
       " 1164,\n",
       " 1165,\n",
       " 1180,\n",
       " 1181,\n",
       " 1204,\n",
       " 1205,\n",
       " 1206,\n",
       " 1207,\n",
       " 1233,\n",
       " 1248,\n",
       " 1271,\n",
       " 1282,\n",
       " 1283,\n",
       " 1284,\n",
       " 1298,\n",
       " 1299,\n",
       " 1300,\n",
       " 1314,\n",
       " 1315,\n",
       " 1326,\n",
       " 1330,\n",
       " 1345,\n",
       " 1356,\n",
       " 1365,\n",
       " 1369,\n",
       " 1399,\n",
       " 1405,\n",
       " 1407,\n",
       " 1408,\n",
       " 1430,\n",
       " 1431,\n",
       " 1432,\n",
       " 1445,\n",
       " 1463,\n",
       " 1464,\n",
       " 1465,\n",
       " 1466,\n",
       " 1467,\n",
       " 1468,\n",
       " 1480,\n",
       " 1481,\n",
       " 1504,\n",
       " 1505,\n",
       " 1506,\n",
       " 1521,\n",
       " 1534,\n",
       " 1535,\n",
       " 1582,\n",
       " 1585,\n",
       " 1586,\n",
       " 1587,\n",
       " 1588,\n",
       " 1589,\n",
       " 1598,\n",
       " 1608,\n",
       " 1612,\n",
       " 1616,\n",
       " 1651,\n",
       " 1679,\n",
       " 1682,\n",
       " 1683,\n",
       " 1704,\n",
       " 1705,\n",
       " 1713,\n",
       " 1727,\n",
       " 1729,\n",
       " 1759,\n",
       " 1772,\n",
       " 1773,\n",
       " 1774,\n",
       " 1776,\n",
       " 1777,\n",
       " 1778,\n",
       " 1786,\n",
       " 1795,\n",
       " 1796,\n",
       " 1799,\n",
       " 1807]"
      ]
     },
     "execution_count": 24,
     "metadata": {},
     "output_type": "execute_result"
    }
   ],
   "source": [
    "get_seizure_epochs(brain_state_file = br_file_1)"
   ]
  },
  {
   "cell_type": "code",
   "execution_count": 8,
   "id": "40eb9c4f",
   "metadata": {},
   "outputs": [],
   "source": [
    "def preprocessing_steps_2(brainstate_list, headstage_dict, animal_id_list,\n",
    "                        recording_path, brain_state_path, recording_number):\n",
    "    '''brainstate_list = ['W', 'N', 'R'],\n",
    "    headstage_dict = {'A': [2, 3, 7, 9]},\n",
    "    animal_id_list = {'A': ['191125']},\n",
    "    recording_path = path_to_npy_files\n",
    "    br_state_path = path_to_brainstate\n",
    "    recording_number = 1'''\n",
    "    \n",
    "    for brainstate in brainstate_list:\n",
    "        for headstage in headstage_dict:\n",
    "            for anim_id in animal_id_list[headstage]:\n",
    "                print('preprocessing' + str(anim_id))\n",
    "                preprocessing_steps = ExtractBrainStateEF1ALPHA(anim_id, recording_path, brain_state_path,\n",
    "                                                               headstage, recording_number = 2)\n",
    "                part_1, part_2 = preprocessing_steps.load_npy_recordings()\n",
    "                br_state_file_1, br_state_file_2 = preprocessing_steps.load_brain_state_file()\n",
    "                #br_state_indices_1 = preprocessing_steps.remove_E_epochs(br_state_file_1, brainstate)\n",
    "                #br_state_indices_2 = preprocessing_steps.remove_E_epochs(br_state_file_2, brainstate)\n",
    "                return br_state_file_1, br_state_file_2\n",
    "                #epoch_indices_1 = preprocessing_steps.get_epoch_indices(br_state_indices_1)\n",
    "                #epoch_indices_2 = preprocessing_steps.get_epoch_indices(br_state_indices_2)\n",
    "                #epoch_bins_1 = preprocessing_steps.create_epoch_bins(br_state_file_1, epoch_indices_1)\n",
    "                #epoch_bins_2 = preprocessing_steps.create_epoch_bins(br_state_file_2, epoch_indices_2)\n",
    "                #print('preprocessing complete for animal id')\n",
    "                #return epoch_bins_1, epoch_bins_2"
   ]
  },
  {
   "cell_type": "code",
   "execution_count": 6,
   "id": "1cea6c3a",
   "metadata": {},
   "outputs": [
    {
     "ename": "NameError",
     "evalue": "name 'file_path_2' is not defined",
     "output_type": "error",
     "traceback": [
      "\u001b[0;31m---------------------------------------------------------------------------\u001b[0m",
      "\u001b[0;31mNameError\u001b[0m                                 Traceback (most recent call last)",
      "Input \u001b[0;32mIn [6]\u001b[0m, in \u001b[0;36m<cell line: 1>\u001b[0;34m()\u001b[0m\n\u001b[1;32m      1\u001b[0m br_file_1, br_file_2 \u001b[38;5;241m=\u001b[39m preprocessing_steps_2(brainstate_list \u001b[38;5;241m=\u001b[39m brainstates,\n\u001b[1;32m      2\u001b[0m                                                                         headstage_dict \u001b[38;5;241m=\u001b[39m hdstage_not_running,\n\u001b[1;32m      3\u001b[0m                                                                         animal_id_list \u001b[38;5;241m=\u001b[39m animal_id_not_running,\n\u001b[0;32m----> 4\u001b[0m                                                                         recording_path \u001b[38;5;241m=\u001b[39m \u001b[43mfile_path_2\u001b[49m,\n\u001b[1;32m      5\u001b[0m                                                                         brain_state_path \u001b[38;5;241m=\u001b[39m brain_state_path,\n\u001b[1;32m      6\u001b[0m                                                                         recording_number \u001b[38;5;241m=\u001b[39m \u001b[38;5;241m2\u001b[39m)\n",
      "\u001b[0;31mNameError\u001b[0m: name 'file_path_2' is not defined"
     ]
    }
   ],
   "source": [
    "br_file_1, br_file_2 = preprocessing_steps_2(brainstate_list = brainstates,\n",
    "                                                                        headstage_dict = hdstage_not_running,\n",
    "                                                                        animal_id_list = animal_id_not_running,\n",
    "                                                                        recording_path = file_path_2,\n",
    "                                                                        brain_state_path = brain_state_path,\n",
    "                                                                        recording_number = 2)"
   ]
  },
  {
   "cell_type": "code",
   "execution_count": null,
   "id": "46896e12",
   "metadata": {},
   "outputs": [],
   "source": []
  }
 ],
 "metadata": {
  "kernelspec": {
   "display_name": "Python 3",
   "language": "python",
   "name": "python3"
  },
  "language_info": {
   "codemirror_mode": {
    "name": "ipython",
    "version": 3
   },
   "file_extension": ".py",
   "mimetype": "text/x-python",
   "name": "python",
   "nbconvert_exporter": "python",
   "pygments_lexer": "ipython3",
   "version": "3.8.5"
  },
  "vscode": {
   "interpreter": {
    "hash": "f41a1448023d8366d46bdc1967babc49ad1fb1468381993cc01a260a0f4f6641"
   }
  }
 },
 "nbformat": 4,
 "nbformat_minor": 5
}
