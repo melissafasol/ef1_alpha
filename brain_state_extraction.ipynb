{
 "cells": [
  {
   "cell_type": "markdown",
   "id": "405c086a",
   "metadata": {},
   "source": [
    "## Notebook to create brain state files from EF1_ALPHA excel sleep scoring spreadsheet"
   ]
  },
  {
   "cell_type": "code",
   "execution_count": 1,
   "id": "a39c59f3",
   "metadata": {},
   "outputs": [],
   "source": [
    "import os \n",
    "import numpy as np\n",
    "import pandas as pd"
   ]
  },
  {
   "cell_type": "code",
   "execution_count": 315,
   "id": "05d5d4af",
   "metadata": {},
   "outputs": [],
   "source": [
    "os.chdir('/home/melissa/PREPROCESSING/EF1_ALPHA')\n",
    "cols = \"B, F, J, N, R, V, Z, AD, AH, AL, AP, AT, BB, BF, BJ, BN, BR, BV, BZ,CD, CH, CL, CP, CT, CX\"\n",
    "cols_discard = \"C, G, K, O, S, W, AA, AE, AI, AM, AQ, AU, BC, BG, BK, BO, BS, BW, CA, CE, CI, CM, CQ, CU, CY\"\n",
    "skiprows = 5\n",
    "raw_excel = pd.read_excel('grant_EEG_classification.xlsx', usecols = cols, header= 1)"
   ]
  },
  {
   "cell_type": "code",
   "execution_count": 316,
   "id": "fdbd0833",
   "metadata": {},
   "outputs": [
    {
     "data": {
      "text/plain": [
       "92"
      ]
     },
     "execution_count": 316,
     "metadata": {},
     "output_type": "execute_result"
    }
   ],
   "source": [
    "len(cols)\n",
    "len(cols_discard)"
   ]
  },
  {
   "cell_type": "code",
   "execution_count": 317,
   "id": "1551b727",
   "metadata": {},
   "outputs": [],
   "source": [
    "#list of animal ids\n",
    "column_names = list(raw_excel)\n",
    "animal_ids = [anim_id[0:8] for anim_id in column_names]"
   ]
  },
  {
   "cell_type": "code",
   "execution_count": 319,
   "id": "18ebe231",
   "metadata": {},
   "outputs": [
    {
     "data": {
      "text/plain": [
       "25"
      ]
     },
     "execution_count": 319,
     "metadata": {},
     "output_type": "execute_result"
    }
   ],
   "source": [
    "len(animal_ids)"
   ]
  },
  {
   "cell_type": "code",
   "execution_count": 320,
   "id": "2c0bc764",
   "metadata": {},
   "outputs": [],
   "source": [
    "raw_epochs = pd.read_excel('grant_EEG_classification.xlsx', usecols = cols, header = 1, skiprows = 6)\n",
    "raw_discard = pd.read_excel('grant_EEG_classification.xlsx', usecols = cols_discard, header = 1, skiprows = 6)"
   ]
  },
  {
   "cell_type": "code",
   "execution_count": 324,
   "id": "bd69d58a",
   "metadata": {},
   "outputs": [
    {
     "name": "stdout",
     "output_type": "stream",
     "text": [
      "3476\n",
      "210422_D\n",
      "3526\n",
      "210423_D\n",
      "3812\n",
      "210705_C\n",
      "4343\n",
      "210706_C\n",
      "3298\n",
      "191125_A\n",
      "3279\n",
      "191126_A\n",
      "3812\n",
      "210705_B\n",
      "4343\n",
      "210706_B\n",
      "3812\n",
      "210705_A\n",
      "4343\n",
      "210706_A\n",
      "2789\n",
      "191216_A\n",
      "3606\n",
      "191217_A\n",
      "2457\n",
      "191104_B\n",
      "1808\n",
      "191107_A\n",
      "3781\n",
      "191108_A\n",
      "3476\n",
      "210422_B\n",
      "3526\n",
      "210423_B\n",
      "2791\n",
      "191216_C\n",
      "3608\n",
      "191217_C\n",
      "2789\n",
      "191216_B\n",
      "3606\n",
      "191217_B\n",
      "3636\n",
      "210429_C\n",
      "3598\n",
      "210430_C\n",
      "3812\n",
      "210705_D\n",
      "4343\n",
      "210706_D\n"
     ]
    }
   ],
   "source": [
    "for animal_id, epoch_col, discard_col in zip(animal_ids, raw_epochs, raw_discard):\n",
    "    epochs = raw_epochs[epoch_col]\n",
    "    discard_epochs = raw_discard[discard_col]\n",
    "    drop_na = epochs.dropna()\n",
    "    length_col = len(drop_na)\n",
    "    print(length_col)\n",
    "    new_discard_epochs = discard_epochs[0:length_col]\n",
    "    test_file = {'brain_state': drop_na, 'epoch_discard': new_discard_epochs}\n",
    "    df = pd.DataFrame(data = test_file)\n",
    "    os.chdir('/home/melissa/PREPROCESSING/EF1_ALPHA/brain_state_folder')\n",
    "    print(animal_id)\n",
    "    df.to_csv(str(animal_id) +'.csv', index=True) "
   ]
  },
  {
   "cell_type": "code",
   "execution_count": 329,
   "id": "4bae649b",
   "metadata": {},
   "outputs": [],
   "source": [
    "os.chdir('/home/melissa/PREPROCESSING/EF1_ALPHA/brain_state_folder')\n",
    "test_check = pd.read_csv('191217_B.csv')"
   ]
  },
  {
   "cell_type": "code",
   "execution_count": 336,
   "id": "a429c476",
   "metadata": {},
   "outputs": [
    {
     "data": {
      "text/plain": [
       "[0       False\n",
       " 1       False\n",
       " 2       False\n",
       " 3       False\n",
       " 4       False\n",
       "         ...  \n",
       " 3602    False\n",
       " 3603    False\n",
       " 3604     True\n",
       " 3605     True\n",
       " 3606    False\n",
       " Name: epoch_discard, Length: 3607, dtype: bool]"
      ]
     },
     "execution_count": 336,
     "metadata": {},
     "output_type": "execute_result"
    }
   ],
   "source": [
    "[test_check.loc[:, 'brain_state'] == 'W'] and [test_check.loc[:, 'epoch_discard'] == 'E']"
   ]
  },
  {
   "cell_type": "code",
   "execution_count": null,
   "id": "b18798f7",
   "metadata": {},
   "outputs": [],
   "source": []
  }
 ],
 "metadata": {
  "kernelspec": {
   "display_name": "Python 3",
   "language": "python",
   "name": "python3"
  },
  "language_info": {
   "codemirror_mode": {
    "name": "ipython",
    "version": 3
   },
   "file_extension": ".py",
   "mimetype": "text/x-python",
   "name": "python",
   "nbconvert_exporter": "python",
   "pygments_lexer": "ipython3",
   "version": "3.8.5"
  }
 },
 "nbformat": 4,
 "nbformat_minor": 5
}
