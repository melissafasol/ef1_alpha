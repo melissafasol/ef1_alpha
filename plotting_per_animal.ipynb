{
 "cells": [
  {
   "cell_type": "code",
   "execution_count": 1,
   "id": "39397ae6",
   "metadata": {},
   "outputs": [],
   "source": [
    "import os \n",
    "import pandas as pd\n",
    "import numpy as np\n",
    "import seaborn as sns\n",
    "import matplotlib.pyplot as plt\n",
    "from matplotlib.cbook import flatten\n",
    "%matplotlib inline \n"
   ]
  },
  {
   "cell_type": "code",
   "execution_count": 3,
   "id": "974975f0",
   "metadata": {},
   "outputs": [],
   "source": [
    "#load data for 1 recording and 2 recording\n",
    "os.chdir('/home/melissa/RESULTS/EF1_ALPHA/1_REC')\n",
    "rem_1_rec = pd.read_csv('R_1_rec.csv')\n",
    "nrem_1_rec = pd.read_csv('N_1_rec.csv')\n",
    "wake_1_rec = pd.read_csv('W_1_rec.csv')\n",
    "\n",
    "os.chdir('/home/melissa/RESULTS/EF1_ALPHA/2_REC')\n",
    "rem_2_rec = pd.read_csv('R_2_rec.csv')\n",
    "nrem_2_rec = pd.read_csv('N_2_rec.csv')\n",
    "wake_2_rec = pd.read_csv('W_2_rec.csv')"
   ]
  },
  {
   "cell_type": "code",
   "execution_count": 4,
   "id": "0a976e31",
   "metadata": {},
   "outputs": [],
   "source": [
    "rem = pd.concat([rem_1_rec, rem_2_rec], axis = 0) \n",
    "nrem = pd.concat([nrem_1_rec, nrem_2_rec], axis = 0) \n",
    "wake = pd.concat([wake_1_rec, wake_2_rec], axis = 0) "
   ]
  },
  {
   "cell_type": "code",
   "execution_count": 5,
   "id": "a57baa84",
   "metadata": {},
   "outputs": [],
   "source": [
    "os.chdir('/home/melissa/PROJECT_DIRECTORIES/ef1_alpha_analysis')\n",
    "%run ef1_alpha_properties.py\n",
    "%run plotting.py "
   ]
  },
  {
   "cell_type": "code",
   "execution_count": 7,
   "id": "e6d842d4",
   "metadata": {},
   "outputs": [],
   "source": [
    "EF1_rem, WT_rem = separate_by_genotype(rem, genotype ='EF1', wildtype = 'WT')\n",
    "EF1_nrem, WT_nrem = separate_by_genotype(nrem, genotype ='EF1', wildtype = 'WT')\n",
    "EF1_wake, WT_wake = separate_by_genotype(wake, genotype ='EF1', wildtype = 'WT')"
   ]
  },
  {
   "cell_type": "code",
   "execution_count": 9,
   "id": "ebe1b32c",
   "metadata": {},
   "outputs": [
    {
     "data": {
      "image/png": "[encoded data removed]",
      "text/plain": [
       "<Figure size 1296x72 with 1 Axes>"
      ]
     },
     "metadata": {
      "needs_background": "light"
     },
     "output_type": "display_data"
    },
    {
     "data": {
      "image/png": "[encoded data removed]",
      "text/plain": [
       "<Figure size 288x72 with 1 Axes>"
      ]
     },
     "metadata": {
      "needs_background": "light"
     },
     "output_type": "display_data"
    },
    {
     "data": {
      "image/png": "[encoded data removed]",
      "text/plain": [
       "<Figure size 288x72 with 1 Axes>"
      ]
     },
     "metadata": {
      "needs_background": "light"
     },
     "output_type": "display_data"
    },
    {
     "data": {
      "image/png": "[encoded data removed]",
      "text/plain": [
       "<Figure size 288x72 with 1 Axes>"
      ]
     },
     "metadata": {
      "needs_background": "light"
     },
     "output_type": "display_data"
    }
   ],
   "source": [
    "##palette colors\n",
    "wt_id_colors = ['orange', 'orangered','lightsalmon','darkred','sienna', 'gold','yellowgreen','darkseagreen','lightgreen','darkolivegreen',\n",
    "         'teal', 'skyblue', 'darkblue','black', 'slategrey', 'silver', 'darkviolet', 'plum']\n",
    "sns.palplot(wt_id_colors)\n",
    "royal = ['darkseagreen', 'lightpink', 'coral', 'darkkhaki']\n",
    "darjeeling = ['orange', 'lightgreen', 'skyblue', 'plum']\n",
    "bright = ['lightblue', 'teal', 'orangered', 'darkred']\n",
    "sns.palplot(royal)\n",
    "sns.palplot(darjeeling)\n",
    "sns.palplot(bright)"
   ]
  },
  {
   "cell_type": "code",
   "execution_count": 10,
   "id": "5925cdfa",
   "metadata": {},
   "outputs": [
    {
     "data": {
      "text/plain": [
       "<Figure size 432x288 with 0 Axes>"
      ]
     },
     "metadata": {},
     "output_type": "display_data"
    }
   ],
   "source": [
    "os.chdir('/home/melissa/PROJECT_DIRECTORIES/ef1_alpha_analysis')\n",
    "%run ef1_alpha_properties.py\n",
    "%run plotting.py "
   ]
  },
  {
   "cell_type": "code",
   "execution_count": null,
   "id": "674f0d7d",
   "metadata": {},
   "outputs": [],
   "source": [
    "save_fig_to = '/home/melissa/RESULTS/EF1_ALPHA/PLOTS/WT'\n",
    "plot_individual_animals_wt(WT_rem, genotype = 'WT', sleepstage = 'REM', save_path = save_fig_to, palette_list = bright)"
   ]
  },
  {
   "cell_type": "code",
   "execution_count": null,
   "id": "a6fb9891",
   "metadata": {},
   "outputs": [],
   "source": []
  }
 ],
 "metadata": {
  "kernelspec": {
   "display_name": "Python 3",
   "language": "python",
   "name": "python3"
  },
  "language_info": {
   "codemirror_mode": {
    "name": "ipython",
    "version": 3
   },
   "file_extension": ".py",
   "mimetype": "text/x-python",
   "name": "python",
   "nbconvert_exporter": "python",
   "pygments_lexer": "ipython3",
   "version": "3.8.5"
  }
 },
 "nbformat": 4,
 "nbformat_minor": 5
}
