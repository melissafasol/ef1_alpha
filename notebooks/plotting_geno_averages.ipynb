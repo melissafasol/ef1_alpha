{
 "cells": [
  {
   "cell_type": "code",
   "execution_count": 1,
   "id": "8e12d334",
   "metadata": {},
   "outputs": [],
   "source": [
    "import os \n",
    "import pandas as pd\n",
    "import numpy as np\n",
    "import seaborn as sns\n",
    "import matplotlib.pyplot as plt\n",
    "from matplotlib.cbook import flatten\n",
    "%matplotlib inline \n"
   ]
  },
  {
   "cell_type": "code",
   "execution_count": 3,
   "id": "47a2ae80",
   "metadata": {},
   "outputs": [],
   "source": [
    "#load data for 1 recording and 2 recording\n",
    "os.chdir('/home/melissa/RESULTS/EF1_ALPHA/1_REC')\n",
    "rem_1_rec = pd.read_csv('R_1_rec.csv')\n",
    "nrem_1_rec = pd.read_csv('N_1_rec.csv')\n",
    "wake_1_rec = pd.read_csv('W_1_rec.csv')\n",
    "\n",
    "os.chdir('/home/melissa/RESULTS/EF1_ALPHA/2_REC')\n",
    "rem_2_rec = pd.read_csv('R_2_rec.csv')\n",
    "nrem_2_rec = pd.read_csv('N_2_rec.csv')\n",
    "wake_2_rec = pd.read_csv('W_2_rec.csv')"
   ]
  },
  {
   "cell_type": "code",
   "execution_count": 4,
   "id": "e0223427",
   "metadata": {},
   "outputs": [],
   "source": [
    "rem = pd.concat([rem_1_rec, rem_2_rec], axis = 0) \n",
    "nrem = pd.concat([nrem_1_rec, nrem_2_rec], axis = 0) \n",
    "wake = pd.concat([wake_1_rec, wake_2_rec], axis = 0) "
   ]
  },
  {
   "cell_type": "code",
   "execution_count": 5,
   "id": "971e9bc3",
   "metadata": {},
   "outputs": [],
   "source": [
    "os.chdir('/home/melissa/PROJECT_DIRECTORIES/ef1_alpha_analysis')\n",
    "%run ef1_alpha_properties.py\n",
    "%run plotting.py "
   ]
  },
  {
   "cell_type": "code",
   "execution_count": 6,
   "id": "4ccbd411",
   "metadata": {},
   "outputs": [],
   "source": [
    "channel_2_rem, channel_18_rem, channel_34_rem, channel_50_rem = separate_by_channel(rem, channel_number_list = [2, 18, 34, 50])\n",
    "channel_2_nrem, channel_18_nrem, channel_34_nrem, channel_50_nrem = separate_by_channel(nrem, channel_number_list = [2, 18, 34, 50])\n",
    "channel_2_wake, channel_18_wake, channel_34_wake, channel_50_wake = separate_by_channel(wake, channel_number_list = [2, 18, 34, 50])"
   ]
  },
  {
   "cell_type": "code",
   "execution_count": null,
   "id": "eda3e39d",
   "metadata": {},
   "outputs": [],
   "source": [
    "channels_to_plot = [2, 18, 34, 50]\n",
    "dataframe_list = [[channel_2_rem, channel_2_nrem, channel_2_wake],[channel_18_rem, channel_18_nrem, channel_18_wake],\n",
    "                  [channel_34_rem, channel_34_nrem, channel_34_wake], [channel_50_rem, channel_50_nrem, channel_50_wake]]\n",
    "for channel, dataframe in zip(channels_to_plot, dataframe_list):\n",
    "        plot_geno_average_by_channel(channel_number = channel, color_list = ['coral', 'darkblue'], \n",
    "                                                hue_order_list = ['EF1', 'WT'], \n",
    "                                                data_rem = dataframe[0], \n",
    "                                                data_nrem = dataframe[1], \n",
    "                                                data_wake = dataframe[2], \n",
    "                                                ylim_lower = 10**-2, \n",
    "                                                ylim_upper= 10**5, save_path = '/home/melissa/RESULTS/EF1_ALPHA/PLOTS' )\n",
    "    "
   ]
  }
 ],
 "metadata": {
  "kernelspec": {
   "display_name": "Python 3 (ipykernel)",
   "language": "python",
   "name": "python3"
  },
  "language_info": {
   "codemirror_mode": {
    "name": "ipython",
    "version": 3
   },
   "file_extension": ".py",
   "mimetype": "text/x-python",
   "name": "python",
   "nbconvert_exporter": "python",
   "pygments_lexer": "ipython3",
   "version": "3.10.12"
  }
 },
 "nbformat": 4,
 "nbformat_minor": 5
}
