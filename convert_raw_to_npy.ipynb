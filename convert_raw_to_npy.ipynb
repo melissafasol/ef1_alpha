{
 "cells": [
  {
   "cell_type": "code",
   "execution_count": 1,
   "id": "7c71c682",
   "metadata": {},
   "outputs": [],
   "source": [
    "import os \n",
    "import numpy as np \n",
    "import pandas as pd \n",
    "import matplotlib.pyplot as plt\n",
    "from scipy.signal import decimate\n",
    "import mne\n",
    "import glob"
   ]
  },
  {
   "cell_type": "code",
   "execution_count": 2,
   "id": "5683e01a",
   "metadata": {},
   "outputs": [],
   "source": [
    "#file_paths and other parameters\n",
    "file_path = '/home/melissa/PREPROCESSING/ef1_alpha_recordings'\n",
    "\n",
    "#load elc_file "
   ]
  },
  {
   "cell_type": "markdown",
   "id": "4d1243bb",
   "metadata": {},
   "source": [
    "# Dictionaries with animal numbers "
   ]
  },
  {
   "cell_type": "markdown",
   "id": "f3d10558",
   "metadata": {},
   "source": [
    "Animal IDs with two vs one recording files "
   ]
  },
  {
   "cell_type": "code",
   "execution_count": null,
   "id": "b45e9c69",
   "metadata": {},
   "outputs": [],
   "source": [
    "two_recordings = ['210422_D', '210423_D', '191107_A', '210705_C', '191217_C', '210422_B', '210423_B',\n",
    "                  '191125_A', '191126_A', '191217_B', '210705_B', '210705_D', '210705_A', '191217_A']\n",
    "one_recording = ['191104_B', '191108_A', '210706_C', '191216_C', '191216_B', '210429_C','210430_C',\n",
    "                '210706_B', '210706_D', '210706_A', '191216_A']"
   ]
  },
  {
   "cell_type": "markdown",
   "id": "08f6bdf1",
   "metadata": {},
   "source": [
    "Separation of Animal IDs by genotypes "
   ]
  },
  {
   "cell_type": "code",
   "execution_count": 3,
   "id": "f6e98bf4",
   "metadata": {},
   "outputs": [],
   "source": [
    "wildtypes = ['210422_D', '210423_D', '210705_C', '210706_C', '191216_C', '191125_A', '191126_A', '191107_A', \n",
    "             '191104_B', '191108_A', '210422_B', '210423_B']\n",
    "wildtypes_male = ['210422_D', '210423_D', '210705_C', '210706_C', '191216_C', '191125_A', '191126_A']\n",
    "wildtypes_female = ['191107_A', '191104_B', '191108_A', '210422_B', '210423_B']\n",
    "\n",
    "ef1_alpha = ['210705_A', '210706_B', '191216_A', '191217_A', '191216_B',\n",
    "             '191217_B', '210429_C','210430_C', '210705_D', '210706_D']\n",
    "ef1_alpha_male = ['210705_A', '210706_B', '191216_A', '191217_A']\n",
    "ef1_alpha_female = ['191216_B', '191217_B', '210429_C','210430_C', '210705_D', '210706_D']"
   ]
  },
  {
   "cell_type": "code",
   "execution_count": null,
   "id": "100772b6",
   "metadata": {},
   "outputs": [],
   "source": [
    "def load_32_EEG(file_path, montage_name, head_stage_number):\n",
    "    \n",
    "    if headstage_number == 1:\n",
    "        channels=[1,2,3,4,5,6,7,8,9,10,11,12,13,14,15,16]\n",
    "    if headstage_number == 2:\n",
    "        channels=[17,18,19,20,21,22, 23,24,25,26,27,28,29,30,31,32]\n",
    "    if headstage_number == 3:\n",
    "        channels=[33,34,35,36,37,38,39,40,41,42,43,44,45,46,47,48]\n",
    "    if headstage_number == 4:\n",
    "        channels=[49,50,51,52,53,54,55,56,57,58,59,60,61,62,63,64]\n",
    "    \n",
    "    data= loadFolderToArray(file_path, channels, chprefix = 'CH', dtype = float, session = '0', source = '100')"
   ]
  }
 ],
 "metadata": {
  "kernelspec": {
   "display_name": "Python 3",
   "language": "python",
   "name": "python3"
  },
  "language_info": {
   "codemirror_mode": {
    "name": "ipython",
    "version": 3
   },
   "file_extension": ".py",
   "mimetype": "text/x-python",
   "name": "python",
   "nbconvert_exporter": "python",
   "pygments_lexer": "ipython3",
   "version": "3.8.5"
  }
 },
 "nbformat": 4,
 "nbformat_minor": 5
}
